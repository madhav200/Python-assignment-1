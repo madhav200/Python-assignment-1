{
  "nbformat": 4,
  "nbformat_minor": 0,
  "metadata": {
    "colab": {
      "name": "ASSIGNMENT 8[3058].ipynb",
      "provenance": [],
      "collapsed_sections": [],
      "authorship_tag": "ABX9TyMBMkvTjXOz37mZYN54AozB",
      "include_colab_link": true
    },
    "kernelspec": {
      "name": "python3",
      "display_name": "Python 3"
    }
  },
  "cells": [
    {
      "cell_type": "markdown",
      "metadata": {
        "id": "view-in-github",
        "colab_type": "text"
      },
      "source": [
        "<a href=\"https://colab.research.google.com/github/madhav200/Python-assignment-1/blob/master/ASSIGNMENT_8%5B3058%5D.ipynb\" target=\"_parent\"><img src=\"https://colab.research.google.com/assets/colab-badge.svg\" alt=\"Open In Colab\"/></a>"
      ]
    },
    {
      "cell_type": "markdown",
      "metadata": {
        "id": "fc7L8XKfaC0o",
        "colab_type": "text"
      },
      "source": [
        ""
      ]
    },
    {
      "cell_type": "markdown",
      "metadata": {
        "id": "YjZogVJxaFV_",
        "colab_type": "text"
      },
      "source": [
        "ASSIGNMENT 8"
      ]
    },
    {
      "cell_type": "code",
      "metadata": {
        "id": "Juuhi87Mch97",
        "colab_type": "code",
        "colab": {
          "base_uri": "https://localhost:8080/",
          "height": 34
        },
        "outputId": "bf071c3b-320d-4f66-dcbc-6987940f4181"
      },
      "source": [
        "#to calculate the length of string\n",
        "x=\"university\"\n",
        "print(len(x))"
      ],
      "execution_count": null,
      "outputs": [
        {
          "output_type": "stream",
          "text": [
            "10\n"
          ],
          "name": "stdout"
        }
      ]
    },
    {
      "cell_type": "code",
      "metadata": {
        "id": "vAxD1rlHd_Ej",
        "colab_type": "code",
        "colab": {
          "base_uri": "https://localhost:8080/",
          "height": 34
        },
        "outputId": "fa259a86-61f7-49cb-8860-399c6d184802"
      },
      "source": [
        "# to count numbers of characters\n",
        "x=\"gitam university\"\n",
        "count=0\n",
        "for i in x :\n",
        "     count+=1\n",
        "print(count)"
      ],
      "execution_count": null,
      "outputs": [
        {
          "output_type": "stream",
          "text": [
            "16\n"
          ],
          "name": "stdout"
        }
      ]
    },
    {
      "cell_type": "code",
      "metadata": {
        "id": "eLgoCdgxe6v2",
        "colab_type": "code",
        "colab": {
          "base_uri": "https://localhost:8080/",
          "height": 34
        },
        "outputId": "58c08032-2f5e-4f59-af32-148da8c87750"
      },
      "source": [
        "# no of times character \"o\" appear in string=\"hello world\"\n",
        "x=\"hello world\"\n",
        "count=0\n",
        "for i in x :\n",
        "           if i==\"o\":\n",
        "                 count+=1\n",
        "print(count)"
      ],
      "execution_count": null,
      "outputs": [
        {
          "output_type": "stream",
          "text": [
            "2\n"
          ],
          "name": "stdout"
        }
      ]
    },
    {
      "cell_type": "code",
      "metadata": {
        "id": "bHsiAttigSek",
        "colab_type": "code",
        "colab": {
          "base_uri": "https://localhost:8080/",
          "height": 51
        },
        "outputId": "7fd1618b-742d-4d86-f01a-ea4c14d43152"
      },
      "source": [
        "#script to take the input from the user and displays the input back in lower and upper cases\n",
        "n=\"hello world\"\n",
        "print(n.lower())\n",
        "print(n.upper())"
      ],
      "execution_count": null,
      "outputs": [
        {
          "output_type": "stream",
          "text": [
            "hello world\n",
            "HELLO WORLD\n"
          ],
          "name": "stdout"
        }
      ]
    },
    {
      "cell_type": "code",
      "metadata": {
        "id": "rgun6ez5g8ua",
        "colab_type": "code",
        "colab": {
          "base_uri": "https://localhost:8080/",
          "height": 68
        },
        "outputId": "48608263-68c5-4c93-d103-9e73ae56025e"
      },
      "source": [
        "#to count occurences of substring in a string\n",
        "st=\"hello world\"\n",
        "count=0\n",
        "for i in st:\n",
        "  if i==\"l\":\n",
        "    count=count+1\n",
        "    print(\"count of l in hello world is:\"+str(count))"
      ],
      "execution_count": null,
      "outputs": [
        {
          "output_type": "stream",
          "text": [
            "count of l in hello world is:1\n",
            "count of l in hello world is:2\n",
            "count of l in hello world is:3\n"
          ],
          "name": "stdout"
        }
      ]
    },
    {
      "cell_type": "code",
      "metadata": {
        "id": "YIrX4m-DhteJ",
        "colab_type": "code",
        "colab": {
          "base_uri": "https://localhost:8080/",
          "height": 34
        },
        "outputId": "577ba8f9-7fec-4c4e-f427-7371fb6a51f2"
      },
      "source": [
        "#program to compare two strings\n",
        "s1=\"hello world\"\n",
        "s2=\"Hello world\"\n",
        "if s1==s2:\n",
        "    print(\"true\")\n",
        "else:\n",
        "    print(\"false\")"
      ],
      "execution_count": null,
      "outputs": [
        {
          "output_type": "stream",
          "text": [
            "false\n"
          ],
          "name": "stdout"
        }
      ]
    },
    {
      "cell_type": "code",
      "metadata": {
        "id": "ir3v1C3PiOWw",
        "colab_type": "code",
        "colab": {
          "base_uri": "https://localhost:8080/",
          "height": 459
        },
        "outputId": "ae654b82-0b6e-406f-dc7c-ac76251ad708"
      },
      "source": [
        "#program to delete a character\n",
        "x=int(input(\"enter a index number you want to delete\"))\n",
        "n=\"hello god welcome to the world\"\n",
        "for i in n:\n",
        "  if i==n[4]:\n",
        "    continue\n",
        "  else:\n",
        "    print(i)\n"
      ],
      "execution_count": null,
      "outputs": [
        {
          "output_type": "stream",
          "text": [
            "enter a index number you want to delete4\n",
            "h\n",
            "e\n",
            "l\n",
            "l\n",
            " \n",
            "g\n",
            "d\n",
            " \n",
            "w\n",
            "e\n",
            "l\n",
            "c\n",
            "m\n",
            "e\n",
            " \n",
            "t\n",
            " \n",
            "t\n",
            "h\n",
            "e\n",
            " \n",
            "w\n",
            "r\n",
            "l\n",
            "d\n"
          ],
          "name": "stdout"
        }
      ]
    },
    {
      "cell_type": "code",
      "metadata": {
        "id": "23pAL6qDkIGt",
        "colab_type": "code",
        "colab": {
          "base_uri": "https://localhost:8080/",
          "height": 68
        },
        "outputId": "4cfbb3ce-2c4b-4cb2-c2b9-a9e3ee687074"
      },
      "source": [
        "#to print every character of a string entered by the user in a new line using loop\n",
        "n=input(\"enter a number:\") \n",
        "for i in n:\n",
        "  print(i) "
      ],
      "execution_count": null,
      "outputs": [
        {
          "output_type": "stream",
          "text": [
            "enter a number:45\n",
            "4\n",
            "5\n"
          ],
          "name": "stdout"
        }
      ]
    },
    {
      "cell_type": "code",
      "metadata": {
        "id": "TUYBntKKk10V",
        "colab_type": "code",
        "colab": {
          "base_uri": "https://localhost:8080/",
          "height": 221
        },
        "outputId": "3c46e2d3-7a98-4bb7-d120-a86d4e941799"
      },
      "source": [
        "#to find the length of the string \"refrigerator\" without using len function\n",
        "x=\"refrigerator\"\n",
        "count=0\n",
        "for i in x:\n",
        "  count+=1\n",
        "  print(count)"
      ],
      "execution_count": null,
      "outputs": [
        {
          "output_type": "stream",
          "text": [
            "1\n",
            "2\n",
            "3\n",
            "4\n",
            "5\n",
            "6\n",
            "7\n",
            "8\n",
            "9\n",
            "10\n",
            "11\n",
            "12\n"
          ],
          "name": "stdout"
        }
      ]
    },
    {
      "cell_type": "code",
      "metadata": {
        "id": "MS9D9ONKlYB6",
        "colab_type": "code",
        "colab": {
          "base_uri": "https://localhost:8080/",
          "height": 34
        },
        "outputId": "cc2b9ec1-4a45-4a0e-c31d-c4df7e9ec34a"
      },
      "source": [
        "#to check if a substring is present in a given string\n",
        "x=\"hello world\"\n",
        "if \"wo\" in x:\n",
        "  print(\"yes substring is found in a string\")\n",
        "else:\n",
        "    print(\"substring is not found in a string\")\n"
      ],
      "execution_count": null,
      "outputs": [
        {
          "output_type": "stream",
          "text": [
            "yes substring is found in a string\n"
          ],
          "name": "stdout"
        }
      ]
    }
  ]
}